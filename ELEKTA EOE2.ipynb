{
 "cells": [
  {
   "cell_type": "markdown",
   "id": "5c4a5b41",
   "metadata": {},
   "source": [
    "# LSE / EOE 2 \n",
    "*Ricardo Peters*\n",
    "\n",
    "## Calculate Hump error\n",
    "\n",
    "- Set up good beam, good (energy, steering, flatness) \n",
    "- Set hump error to zero with hump balance\n",
    "- Calculate the flatness of the good beam!\n"
   ]
  },
  {
   "cell_type": "code",
   "execution_count": 78,
   "id": "0f776e71",
   "metadata": {},
   "outputs": [
    {
     "name": "stdout",
     "output_type": "stream",
     "text": [
      "The flatness of a good beam = -5.75\n"
     ]
    }
   ],
   "source": [
    "Dose_Left_Scholder_Start = 105\n",
    "Dose_Right_Scholder_Start = 106.5\n",
    "\n",
    "flatness_start = 100-((Dose_Left_Scholder_Start + Dose_Right_Scholder_Start)/2)\n",
    "\n",
    "print(\"The flatness of a good beam =\",flatness_start)"
   ]
  },
  {
   "cell_type": "markdown",
   "id": "72bde97f",
   "metadata": {},
   "source": [
    "- Ad 15 Amps to Bending_Coars \n",
    "- Calculate the new value for Bending_fine"
   ]
  },
  {
   "cell_type": "code",
   "execution_count": 79,
   "id": "d64a12a9",
   "metadata": {},
   "outputs": [
    {
     "name": "stdout",
     "output_type": "stream",
     "text": [
      "Bending Fine New =  2.1375\n"
     ]
    }
   ],
   "source": [
    "BC_New = 45\n",
    "BC_Old = 40\n",
    "BF_Old = 1.9\n",
    "\n",
    "BF_New = ((BC_New * BF_Old)/BC_Old)\n",
    "\n",
    "print(\"Bending Fine New = \", BF_New)"
   ]
  },
  {
   "cell_type": "markdown",
   "id": "4f32089e",
   "metadata": {},
   "source": [
    "- Beam On with the new Bending values\n",
    "- Peak dose rate with Gun I (remember old value)\n",
    "- Calculate the new flatness of the beam."
   ]
  },
  {
   "cell_type": "code",
   "execution_count": 80,
   "id": "a3c05146",
   "metadata": {},
   "outputs": [
    {
     "name": "stdout",
     "output_type": "stream",
     "text": [
      "The flatness of the beam = -2.75\n"
     ]
    }
   ],
   "source": [
    "Dose_Left_Scholder_New = 103\n",
    "Dose_Right_Scholder_New = 102.5\n",
    "\n",
    "flatness_off = 100-((Dose_Left_Scholder_New + Dose_Right_Scholder_New)/2)\n",
    "\n",
    "print(\"The flatness of the beam =\",flatness_off)"
   ]
  },
  {
   "cell_type": "markdown",
   "id": "88e4899a",
   "metadata": {},
   "source": [
    "Calculate the hump error\n",
    "\n",
    "The Hump error of the beam shoot be off by 4% to 5% on the profiler\n",
    "\n",
    "! If the hump error is not 4% tot 5% keep Editing the Bending_Course and Fine till it is. "
   ]
  },
  {
   "cell_type": "code",
   "execution_count": 81,
   "id": "0a167b9e",
   "metadata": {},
   "outputs": [
    {
     "name": "stdout",
     "output_type": "stream",
     "text": [
      "Hump_error = 3.0 %\n"
     ]
    }
   ],
   "source": [
    "Hump_error = (flatness_off - flatness_start)\n",
    "print(\"Hump_error =\", Hump_error,'%')"
   ]
  },
  {
   "cell_type": "markdown",
   "id": "f65e61c7",
   "metadata": {},
   "source": [
    "- Edit hump loop, so the hump error is te same value as shown on the profiler.\n",
    "- Correct the values of\n",
    " * Bending_Course \n",
    " * Bedning_Fine\n",
    " * Gun I\n",
    "- Check if the hump error is stil zero.\n",
    "\n",
    "## end"
   ]
  }
 ],
 "metadata": {
  "kernelspec": {
   "display_name": "Python 3 (ipykernel)",
   "language": "python",
   "name": "python3"
  },
  "language_info": {
   "codemirror_mode": {
    "name": "ipython",
    "version": 3
   },
   "file_extension": ".py",
   "mimetype": "text/x-python",
   "name": "python",
   "nbconvert_exporter": "python",
   "pygments_lexer": "ipython3",
   "version": "3.9.13"
  }
 },
 "nbformat": 4,
 "nbformat_minor": 5
}
